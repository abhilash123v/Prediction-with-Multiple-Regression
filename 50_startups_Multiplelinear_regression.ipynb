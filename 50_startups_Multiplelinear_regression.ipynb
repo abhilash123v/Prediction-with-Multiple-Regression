{
 "cells": [
  {
   "cell_type": "code",
   "execution_count": 1,
   "id": "385c1847",
   "metadata": {},
   "outputs": [],
   "source": [
    "import pandas as pd\n",
    "import seaborn as sns\n",
    "import matplotlib.pyplot as plt\n",
    "from sklearn.linear_model import LinearRegression"
   ]
  },
  {
   "cell_type": "code",
   "execution_count": 2,
   "id": "c449e712",
   "metadata": {},
   "outputs": [],
   "source": [
    "data=pd.read_csv(\"H:/TOPMENTOR/2024/April-month/April 7 Assignments/Assignment/Project - 3&4_Multiple_Reg/50_Startups.csv\")"
   ]
  },
  {
   "cell_type": "code",
   "execution_count": 3,
   "id": "9593b632",
   "metadata": {
    "scrolled": true
   },
   "outputs": [
    {
     "data": {
      "text/html": [
       "<div>\n",
       "<style scoped>\n",
       "    .dataframe tbody tr th:only-of-type {\n",
       "        vertical-align: middle;\n",
       "    }\n",
       "\n",
       "    .dataframe tbody tr th {\n",
       "        vertical-align: top;\n",
       "    }\n",
       "\n",
       "    .dataframe thead th {\n",
       "        text-align: right;\n",
       "    }\n",
       "</style>\n",
       "<table border=\"1\" class=\"dataframe\">\n",
       "  <thead>\n",
       "    <tr style=\"text-align: right;\">\n",
       "      <th></th>\n",
       "      <th>R&amp;D Spend</th>\n",
       "      <th>Administration</th>\n",
       "      <th>Marketing Spend</th>\n",
       "      <th>State</th>\n",
       "      <th>Profit</th>\n",
       "    </tr>\n",
       "  </thead>\n",
       "  <tbody>\n",
       "    <tr>\n",
       "      <th>0</th>\n",
       "      <td>165349.20</td>\n",
       "      <td>136897.80</td>\n",
       "      <td>471784.10</td>\n",
       "      <td>New York</td>\n",
       "      <td>192261.83</td>\n",
       "    </tr>\n",
       "    <tr>\n",
       "      <th>1</th>\n",
       "      <td>162597.70</td>\n",
       "      <td>151377.59</td>\n",
       "      <td>443898.53</td>\n",
       "      <td>California</td>\n",
       "      <td>191792.06</td>\n",
       "    </tr>\n",
       "    <tr>\n",
       "      <th>2</th>\n",
       "      <td>153441.51</td>\n",
       "      <td>101145.55</td>\n",
       "      <td>407934.54</td>\n",
       "      <td>Florida</td>\n",
       "      <td>191050.39</td>\n",
       "    </tr>\n",
       "    <tr>\n",
       "      <th>3</th>\n",
       "      <td>144372.41</td>\n",
       "      <td>118671.85</td>\n",
       "      <td>383199.62</td>\n",
       "      <td>New York</td>\n",
       "      <td>182901.99</td>\n",
       "    </tr>\n",
       "    <tr>\n",
       "      <th>4</th>\n",
       "      <td>142107.34</td>\n",
       "      <td>91391.77</td>\n",
       "      <td>366168.42</td>\n",
       "      <td>Florida</td>\n",
       "      <td>166187.94</td>\n",
       "    </tr>\n",
       "  </tbody>\n",
       "</table>\n",
       "</div>"
      ],
      "text/plain": [
       "   R&D Spend  Administration  Marketing Spend       State     Profit\n",
       "0  165349.20       136897.80        471784.10    New York  192261.83\n",
       "1  162597.70       151377.59        443898.53  California  191792.06\n",
       "2  153441.51       101145.55        407934.54     Florida  191050.39\n",
       "3  144372.41       118671.85        383199.62    New York  182901.99\n",
       "4  142107.34        91391.77        366168.42     Florida  166187.94"
      ]
     },
     "execution_count": 3,
     "metadata": {},
     "output_type": "execute_result"
    }
   ],
   "source": [
    "data.head(5)"
   ]
  },
  {
   "cell_type": "code",
   "execution_count": 4,
   "id": "3e6d63d1",
   "metadata": {},
   "outputs": [],
   "source": [
    "# Preprocessing of data"
   ]
  },
  {
   "cell_type": "code",
   "execution_count": 5,
   "id": "2443ae97",
   "metadata": {},
   "outputs": [
    {
     "name": "stdout",
     "output_type": "stream",
     "text": [
      "The number of rows and columns -  (50, 5)\n",
      "The data types -  R&D Spend          float64\n",
      "Administration     float64\n",
      "Marketing Spend    float64\n",
      "State               object\n",
      "Profit             float64\n",
      "dtype: object\n",
      "The Number of Missing Records -  R&D Spend          0\n",
      "Administration     0\n",
      "Marketing Spend    0\n",
      "State              0\n",
      "Profit             0\n",
      "dtype: int64\n"
     ]
    }
   ],
   "source": [
    "print(\"The number of rows and columns - \", data.shape)\n",
    "print(\"The data types - \", data.dtypes)\n",
    "print(\"The Number of Missing Records - \",data.isnull().sum())"
   ]
  },
  {
   "cell_type": "code",
   "execution_count": 6,
   "id": "2cf5f4f7",
   "metadata": {},
   "outputs": [],
   "source": [
    "##Exploratory Data Analysis "
   ]
  },
  {
   "cell_type": "code",
   "execution_count": 7,
   "id": "be49a126",
   "metadata": {},
   "outputs": [
    {
     "name": "stdout",
     "output_type": "stream",
     "text": [
      "Index(['R&D Spend', 'Administration', 'Marketing Spend', 'State', 'Profit'], dtype='object')\n"
     ]
    }
   ],
   "source": [
    "print(data.columns)"
   ]
  },
  {
   "cell_type": "code",
   "execution_count": 8,
   "id": "02aea7b0",
   "metadata": {},
   "outputs": [
    {
     "name": "stdout",
     "output_type": "stream",
     "text": [
      "           R&D Spend  Administration  Marketing Spend         Profit\n",
      "count      50.000000       50.000000        50.000000      50.000000\n",
      "mean    73721.615600   121344.639600    211025.097800  112012.639200\n",
      "std     45902.256482    28017.802755    122290.310726   40306.180338\n",
      "min         0.000000    51283.140000         0.000000   14681.400000\n",
      "25%     39936.370000   103730.875000    129300.132500   90138.902500\n",
      "50%     73051.080000   122699.795000    212716.240000  107978.190000\n",
      "75%    101602.800000   144842.180000    299469.085000  139765.977500\n",
      "max    165349.200000   182645.560000    471784.100000  192261.830000\n"
     ]
    }
   ],
   "source": [
    "print(data.describe())"
   ]
  },
  {
   "cell_type": "code",
   "execution_count": 15,
   "id": "317b1cff",
   "metadata": {},
   "outputs": [
    {
     "data": {
      "image/png": "[encoded data removed]",
      "text/plain": [
       "<Figure size 640x480 with 1 Axes>"
      ]
     },
     "metadata": {},
     "output_type": "display_data"
    }
   ],
   "source": [
    "sns.boxplot(data['Profit'])\n",
    "plt.title('Boxplot of Profit')\n",
    "plt.savefig(\"Profit-boxplot.jpg\", dpi=300)\n",
    "\n",
    "## outliers dtetected in Profit variable so need to remove them"
   ]
  },
  {
   "cell_type": "code",
   "execution_count": 23,
   "id": "c44d0e51",
   "metadata": {},
   "outputs": [
    {
     "name": "stdout",
     "output_type": "stream",
     "text": [
      "0     2.011203\n",
      "1     1.999430\n",
      "2     1.980842\n",
      "3     1.776627\n",
      "4     1.357740\n",
      "5     1.127250\n",
      "6     1.105481\n",
      "7     1.096210\n",
      "8     1.007470\n",
      "9     0.946022\n",
      "10    0.854847\n",
      "11    0.808168\n",
      "12    0.741155\n",
      "13    0.558750\n",
      "14    0.516026\n",
      "15    0.448720\n",
      "16    0.375436\n",
      "17    0.334771\n",
      "18    0.307116\n",
      "19    0.269773\n",
      "20    0.161935\n",
      "21    0.017534\n",
      "22    0.041613\n",
      "23    0.082169\n",
      "24    0.086729\n",
      "25    0.115493\n",
      "26    0.157367\n",
      "27    0.175542\n",
      "28    0.218798\n",
      "29    0.275882\n",
      "30    0.302625\n",
      "31    0.364127\n",
      "32    0.365524\n",
      "33    0.381787\n",
      "34    0.383444\n",
      "35    0.389291\n",
      "36    0.533932\n",
      "37    0.552955\n",
      "38    0.771497\n",
      "39    0.777094\n",
      "40    0.846411\n",
      "41    0.857466\n",
      "42    1.015365\n",
      "43    1.058960\n",
      "44    1.173209\n",
      "45    1.180082\n",
      "46    1.566922\n",
      "47    1.740627\n",
      "48    1.913212\n",
      "49    2.439313\n",
      "Name: Profit, dtype: float64\n"
     ]
    }
   ],
   "source": [
    "from scipy import stats              # zscore method to remove outliers\n",
    "import numpy as np\n",
    "z = np.abs(stats.zscore(data['Profit']))     \n",
    "print(z)"
   ]
  },
  {
   "cell_type": "code",
   "execution_count": 24,
   "id": "67062ecb",
   "metadata": {},
   "outputs": [
    {
     "name": "stdout",
     "output_type": "stream",
     "text": [
      "Original DataFrame Shape: (50, 5)\n",
      "DataFrame Shape after Removing Outliers: (48, 5)\n"
     ]
    }
   ],
   "source": [
    "threshold_z = 2  # zscore method to remove outliers\n",
    "\n",
    "outlier_indices = np.where(z > threshold_z)[0]\n",
    "no_outliers = data.drop(outlier_indices)\n",
    "print(\"Original DataFrame Shape:\", data.shape)\n",
    "print(\"DataFrame Shape after Removing Outliers:\", no_outliers.shape)"
   ]
  },
  {
   "cell_type": "code",
   "execution_count": 42,
   "id": "a3c922a1",
   "metadata": {},
   "outputs": [
    {
     "name": "stdout",
     "output_type": "stream",
     "text": [
      "Original Data:\n",
      "    R&D Spend  Administration  Marketing Spend       State     Profit\n",
      "1   162597.70       151377.59        443898.53  California  191792.06\n",
      "2   153441.51       101145.55        407934.54     Florida  191050.39\n",
      "3   144372.41       118671.85        383199.62    New York  182901.99\n",
      "4   142107.34        91391.77        366168.42     Florida  166187.94\n",
      "5   131876.90        99814.71        362861.36    New York  156991.12\n",
      "6   134615.46       147198.87        127716.82  California  156122.51\n",
      "7   130298.13       145530.06        323876.68     Florida  155752.60\n",
      "8   120542.52       148718.95        311613.29    New York  152211.77\n",
      "9   123334.88       108679.17        304981.62  California  149759.96\n",
      "10  101913.08       110594.11        229160.95     Florida  146121.95\n",
      "11  100671.96        91790.61        249744.55  California  144259.40\n",
      "12   93863.75       127320.38        249839.44     Florida  141585.52\n",
      "13   91992.39       135495.07        252664.93  California  134307.35\n",
      "14  119943.24       156547.42        256512.92     Florida  132602.65\n",
      "15  114523.61       122616.84        261776.23    New York  129917.04\n",
      "16   78013.11       121597.55        264346.06  California  126992.93\n",
      "17   94657.16       145077.58        282574.31    New York  125370.37\n",
      "18   91749.16       114175.79        294919.57     Florida  124266.90\n",
      "19   86419.70       153514.11             0.00    New York  122776.86\n",
      "20   76253.86       113867.30        298664.47  California  118474.03\n",
      "21   78389.47       153773.43        299737.29    New York  111313.02\n",
      "22   73994.56       122782.75        303319.26     Florida  110352.25\n",
      "23   67532.53       105751.03        304768.73     Florida  108733.99\n",
      "24   77044.01        99281.34        140574.81    New York  108552.04\n",
      "25   64664.71       139553.16        137962.62  California  107404.34\n",
      "26   75328.87       144135.98        134050.07     Florida  105733.54\n",
      "27   72107.60       127864.55        353183.81    New York  105008.31\n",
      "28   66051.52       182645.56        118148.20     Florida  103282.38\n",
      "29   65605.48       153032.06        107138.38    New York  101004.64\n",
      "30   61994.48       115641.28         91131.24     Florida   99937.59\n",
      "31   61136.38       152701.92         88218.23    New York   97483.56\n",
      "32   63408.86       129219.61         46085.25  California   97427.84\n",
      "33   55493.95       103057.49        214634.81     Florida   96778.92\n",
      "34   46426.07       157693.92        210797.67  California   96712.80\n",
      "35   46014.02        85047.44        205517.64    New York   96479.51\n",
      "36   28663.76       127056.21        201126.82     Florida   90708.19\n",
      "37   44069.95        51283.14        197029.42  California   89949.14\n",
      "38   20229.59        65947.93        185265.10    New York   81229.06\n",
      "39   38558.51        82982.09        174999.30  California   81005.76\n",
      "40   28754.33       118546.05        172795.67  California   78239.91\n",
      "41   27892.92        84710.77        164470.71     Florida   77798.83\n",
      "42   23640.93        96189.63        148001.11  California   71498.49\n",
      "43   15505.73       127382.30         35534.17    New York   69758.98\n",
      "44   22177.74       154806.14         28334.72  California   65200.33\n",
      "45    1000.23       124153.04          1903.93    New York   64926.08\n",
      "46    1315.46       115816.21        297114.46     Florida   49490.75\n",
      "47       0.00       135426.92             0.00  California   42559.73\n",
      "48     542.05        51743.15             0.00    New York   35673.41\n",
      "\n",
      "One-Hot Encoded Data using Pandas:\n",
      "    R&D Spend  Administration  Marketing Spend     Profit  State_Florida  \\\n",
      "1   162597.70       151377.59        443898.53  191792.06          False   \n",
      "2   153441.51       101145.55        407934.54  191050.39           True   \n",
      "3   144372.41       118671.85        383199.62  182901.99          False   \n",
      "4   142107.34        91391.77        366168.42  166187.94           True   \n",
      "5   131876.90        99814.71        362861.36  156991.12          False   \n",
      "6   134615.46       147198.87        127716.82  156122.51          False   \n",
      "7   130298.13       145530.06        323876.68  155752.60           True   \n",
      "8   120542.52       148718.95        311613.29  152211.77          False   \n",
      "9   123334.88       108679.17        304981.62  149759.96          False   \n",
      "10  101913.08       110594.11        229160.95  146121.95           True   \n",
      "11  100671.96        91790.61        249744.55  144259.40          False   \n",
      "12   93863.75       127320.38        249839.44  141585.52           True   \n",
      "13   91992.39       135495.07        252664.93  134307.35          False   \n",
      "14  119943.24       156547.42        256512.92  132602.65           True   \n",
      "15  114523.61       122616.84        261776.23  129917.04          False   \n",
      "16   78013.11       121597.55        264346.06  126992.93          False   \n",
      "17   94657.16       145077.58        282574.31  125370.37          False   \n",
      "18   91749.16       114175.79        294919.57  124266.90           True   \n",
      "19   86419.70       153514.11             0.00  122776.86          False   \n",
      "20   76253.86       113867.30        298664.47  118474.03          False   \n",
      "21   78389.47       153773.43        299737.29  111313.02          False   \n",
      "22   73994.56       122782.75        303319.26  110352.25           True   \n",
      "23   67532.53       105751.03        304768.73  108733.99           True   \n",
      "24   77044.01        99281.34        140574.81  108552.04          False   \n",
      "25   64664.71       139553.16        137962.62  107404.34          False   \n",
      "26   75328.87       144135.98        134050.07  105733.54           True   \n",
      "27   72107.60       127864.55        353183.81  105008.31          False   \n",
      "28   66051.52       182645.56        118148.20  103282.38           True   \n",
      "29   65605.48       153032.06        107138.38  101004.64          False   \n",
      "30   61994.48       115641.28         91131.24   99937.59           True   \n",
      "31   61136.38       152701.92         88218.23   97483.56          False   \n",
      "32   63408.86       129219.61         46085.25   97427.84          False   \n",
      "33   55493.95       103057.49        214634.81   96778.92           True   \n",
      "34   46426.07       157693.92        210797.67   96712.80          False   \n",
      "35   46014.02        85047.44        205517.64   96479.51          False   \n",
      "36   28663.76       127056.21        201126.82   90708.19           True   \n",
      "37   44069.95        51283.14        197029.42   89949.14          False   \n",
      "38   20229.59        65947.93        185265.10   81229.06          False   \n",
      "39   38558.51        82982.09        174999.30   81005.76          False   \n",
      "40   28754.33       118546.05        172795.67   78239.91          False   \n",
      "41   27892.92        84710.77        164470.71   77798.83           True   \n",
      "42   23640.93        96189.63        148001.11   71498.49          False   \n",
      "43   15505.73       127382.30         35534.17   69758.98          False   \n",
      "44   22177.74       154806.14         28334.72   65200.33          False   \n",
      "45    1000.23       124153.04          1903.93   64926.08          False   \n",
      "46    1315.46       115816.21        297114.46   49490.75           True   \n",
      "47       0.00       135426.92             0.00   42559.73          False   \n",
      "48     542.05        51743.15             0.00   35673.41          False   \n",
      "\n",
      "    State_New York  \n",
      "1            False  \n",
      "2            False  \n",
      "3             True  \n",
      "4            False  \n",
      "5             True  \n",
      "6            False  \n",
      "7            False  \n",
      "8             True  \n",
      "9            False  \n",
      "10           False  \n",
      "11           False  \n",
      "12           False  \n",
      "13           False  \n",
      "14           False  \n",
      "15            True  \n",
      "16           False  \n",
      "17            True  \n",
      "18           False  \n",
      "19            True  \n",
      "20           False  \n",
      "21            True  \n",
      "22           False  \n",
      "23           False  \n",
      "24            True  \n",
      "25           False  \n",
      "26           False  \n",
      "27            True  \n",
      "28           False  \n",
      "29            True  \n",
      "30           False  \n",
      "31            True  \n",
      "32           False  \n",
      "33           False  \n",
      "34           False  \n",
      "35            True  \n",
      "36           False  \n",
      "37           False  \n",
      "38            True  \n",
      "39           False  \n",
      "40           False  \n",
      "41           False  \n",
      "42           False  \n",
      "43            True  \n",
      "44           False  \n",
      "45            True  \n",
      "46           False  \n",
      "47           False  \n",
      "48            True  \n",
      "\n",
      "    R&D Spend  Administration  Marketing Spend     Profit  State_Florida  \\\n",
      "1   162597.70       151377.59        443898.53  191792.06              0   \n",
      "2   153441.51       101145.55        407934.54  191050.39              1   \n",
      "3   144372.41       118671.85        383199.62  182901.99              0   \n",
      "4   142107.34        91391.77        366168.42  166187.94              1   \n",
      "5   131876.90        99814.71        362861.36  156991.12              0   \n",
      "6   134615.46       147198.87        127716.82  156122.51              0   \n",
      "7   130298.13       145530.06        323876.68  155752.60              1   \n",
      "8   120542.52       148718.95        311613.29  152211.77              0   \n",
      "9   123334.88       108679.17        304981.62  149759.96              0   \n",
      "10  101913.08       110594.11        229160.95  146121.95              1   \n",
      "11  100671.96        91790.61        249744.55  144259.40              0   \n",
      "12   93863.75       127320.38        249839.44  141585.52              1   \n",
      "13   91992.39       135495.07        252664.93  134307.35              0   \n",
      "14  119943.24       156547.42        256512.92  132602.65              1   \n",
      "15  114523.61       122616.84        261776.23  129917.04              0   \n",
      "16   78013.11       121597.55        264346.06  126992.93              0   \n",
      "17   94657.16       145077.58        282574.31  125370.37              0   \n",
      "18   91749.16       114175.79        294919.57  124266.90              1   \n",
      "19   86419.70       153514.11             0.00  122776.86              0   \n",
      "20   76253.86       113867.30        298664.47  118474.03              0   \n",
      "21   78389.47       153773.43        299737.29  111313.02              0   \n",
      "22   73994.56       122782.75        303319.26  110352.25              1   \n",
      "23   67532.53       105751.03        304768.73  108733.99              1   \n",
      "24   77044.01        99281.34        140574.81  108552.04              0   \n",
      "25   64664.71       139553.16        137962.62  107404.34              0   \n",
      "26   75328.87       144135.98        134050.07  105733.54              1   \n",
      "27   72107.60       127864.55        353183.81  105008.31              0   \n",
      "28   66051.52       182645.56        118148.20  103282.38              1   \n",
      "29   65605.48       153032.06        107138.38  101004.64              0   \n",
      "30   61994.48       115641.28         91131.24   99937.59              1   \n",
      "31   61136.38       152701.92         88218.23   97483.56              0   \n",
      "32   63408.86       129219.61         46085.25   97427.84              0   \n",
      "33   55493.95       103057.49        214634.81   96778.92              1   \n",
      "34   46426.07       157693.92        210797.67   96712.80              0   \n",
      "35   46014.02        85047.44        205517.64   96479.51              0   \n",
      "36   28663.76       127056.21        201126.82   90708.19              1   \n",
      "37   44069.95        51283.14        197029.42   89949.14              0   \n",
      "38   20229.59        65947.93        185265.10   81229.06              0   \n",
      "39   38558.51        82982.09        174999.30   81005.76              0   \n",
      "40   28754.33       118546.05        172795.67   78239.91              0   \n",
      "41   27892.92        84710.77        164470.71   77798.83              1   \n",
      "42   23640.93        96189.63        148001.11   71498.49              0   \n",
      "43   15505.73       127382.30         35534.17   69758.98              0   \n",
      "44   22177.74       154806.14         28334.72   65200.33              0   \n",
      "45    1000.23       124153.04          1903.93   64926.08              0   \n",
      "46    1315.46       115816.21        297114.46   49490.75              1   \n",
      "47       0.00       135426.92             0.00   42559.73              0   \n",
      "48     542.05        51743.15             0.00   35673.41              0   \n",
      "\n",
      "    State_New York  \n",
      "1                0  \n",
      "2                0  \n",
      "3                1  \n",
      "4                0  \n",
      "5                1  \n",
      "6                0  \n",
      "7                0  \n",
      "8                1  \n",
      "9                0  \n",
      "10               0  \n",
      "11               0  \n",
      "12               0  \n",
      "13               0  \n",
      "14               0  \n",
      "15               1  \n",
      "16               0  \n",
      "17               1  \n",
      "18               0  \n",
      "19               1  \n",
      "20               0  \n",
      "21               1  \n",
      "22               0  \n",
      "23               0  \n",
      "24               1  \n",
      "25               0  \n",
      "26               0  \n",
      "27               1  \n",
      "28               0  \n",
      "29               1  \n",
      "30               0  \n",
      "31               1  \n",
      "32               0  \n",
      "33               0  \n",
      "34               0  \n",
      "35               1  \n",
      "36               0  \n",
      "37               0  \n",
      "38               1  \n",
      "39               0  \n",
      "40               0  \n",
      "41               0  \n",
      "42               0  \n",
      "43               1  \n",
      "44               0  \n",
      "45               1  \n",
      "46               0  \n",
      "47               0  \n",
      "48               1  \n"
     ]
    }
   ],
   "source": [
    "df = pd.DataFrame(no_outliers)\n",
    "print(f\"Original Data:\\n{df}\\n\")\n",
    "# Use pd.get_dummies() to one-hot encode the categorical columns\n",
    "df_pandas_encoded = pd.get_dummies(df, columns=['State'], drop_first=True)\n",
    "print(f\"One-Hot Encoded Data using Pandas:\\n{df_pandas_encoded}\\n\")"
   ]
  },
  {
   "cell_type": "code",
   "execution_count": 43,
   "id": "df2900d1",
   "metadata": {},
   "outputs": [
    {
     "name": "stdout",
     "output_type": "stream",
     "text": [
      "    R&D Spend  Administration  Marketing Spend     Profit  State_Florida  \\\n",
      "1   162597.70       151377.59        443898.53  191792.06              0   \n",
      "2   153441.51       101145.55        407934.54  191050.39              1   \n",
      "3   144372.41       118671.85        383199.62  182901.99              0   \n",
      "4   142107.34        91391.77        366168.42  166187.94              1   \n",
      "5   131876.90        99814.71        362861.36  156991.12              0   \n",
      "6   134615.46       147198.87        127716.82  156122.51              0   \n",
      "7   130298.13       145530.06        323876.68  155752.60              1   \n",
      "8   120542.52       148718.95        311613.29  152211.77              0   \n",
      "9   123334.88       108679.17        304981.62  149759.96              0   \n",
      "10  101913.08       110594.11        229160.95  146121.95              1   \n",
      "11  100671.96        91790.61        249744.55  144259.40              0   \n",
      "12   93863.75       127320.38        249839.44  141585.52              1   \n",
      "13   91992.39       135495.07        252664.93  134307.35              0   \n",
      "14  119943.24       156547.42        256512.92  132602.65              1   \n",
      "15  114523.61       122616.84        261776.23  129917.04              0   \n",
      "16   78013.11       121597.55        264346.06  126992.93              0   \n",
      "17   94657.16       145077.58        282574.31  125370.37              0   \n",
      "18   91749.16       114175.79        294919.57  124266.90              1   \n",
      "19   86419.70       153514.11             0.00  122776.86              0   \n",
      "20   76253.86       113867.30        298664.47  118474.03              0   \n",
      "21   78389.47       153773.43        299737.29  111313.02              0   \n",
      "22   73994.56       122782.75        303319.26  110352.25              1   \n",
      "23   67532.53       105751.03        304768.73  108733.99              1   \n",
      "24   77044.01        99281.34        140574.81  108552.04              0   \n",
      "25   64664.71       139553.16        137962.62  107404.34              0   \n",
      "26   75328.87       144135.98        134050.07  105733.54              1   \n",
      "27   72107.60       127864.55        353183.81  105008.31              0   \n",
      "28   66051.52       182645.56        118148.20  103282.38              1   \n",
      "29   65605.48       153032.06        107138.38  101004.64              0   \n",
      "30   61994.48       115641.28         91131.24   99937.59              1   \n",
      "31   61136.38       152701.92         88218.23   97483.56              0   \n",
      "32   63408.86       129219.61         46085.25   97427.84              0   \n",
      "33   55493.95       103057.49        214634.81   96778.92              1   \n",
      "34   46426.07       157693.92        210797.67   96712.80              0   \n",
      "35   46014.02        85047.44        205517.64   96479.51              0   \n",
      "36   28663.76       127056.21        201126.82   90708.19              1   \n",
      "37   44069.95        51283.14        197029.42   89949.14              0   \n",
      "38   20229.59        65947.93        185265.10   81229.06              0   \n",
      "39   38558.51        82982.09        174999.30   81005.76              0   \n",
      "40   28754.33       118546.05        172795.67   78239.91              0   \n",
      "41   27892.92        84710.77        164470.71   77798.83              1   \n",
      "42   23640.93        96189.63        148001.11   71498.49              0   \n",
      "43   15505.73       127382.30         35534.17   69758.98              0   \n",
      "44   22177.74       154806.14         28334.72   65200.33              0   \n",
      "45    1000.23       124153.04          1903.93   64926.08              0   \n",
      "46    1315.46       115816.21        297114.46   49490.75              1   \n",
      "47       0.00       135426.92             0.00   42559.73              0   \n",
      "48     542.05        51743.15             0.00   35673.41              0   \n",
      "\n",
      "    State_New York  \n",
      "1                0  \n",
      "2                0  \n",
      "3                1  \n",
      "4                0  \n",
      "5                1  \n",
      "6                0  \n",
      "7                0  \n",
      "8                1  \n",
      "9                0  \n",
      "10               0  \n",
      "11               0  \n",
      "12               0  \n",
      "13               0  \n",
      "14               0  \n",
      "15               1  \n",
      "16               0  \n",
      "17               1  \n",
      "18               0  \n",
      "19               1  \n",
      "20               0  \n",
      "21               1  \n",
      "22               0  \n",
      "23               0  \n",
      "24               1  \n",
      "25               0  \n",
      "26               0  \n",
      "27               1  \n",
      "28               0  \n",
      "29               1  \n",
      "30               0  \n",
      "31               1  \n",
      "32               0  \n",
      "33               0  \n",
      "34               0  \n",
      "35               1  \n",
      "36               0  \n",
      "37               0  \n",
      "38               1  \n",
      "39               0  \n",
      "40               0  \n",
      "41               0  \n",
      "42               0  \n",
      "43               1  \n",
      "44               0  \n",
      "45               1  \n",
      "46               0  \n",
      "47               0  \n",
      "48               1  \n"
     ]
    }
   ],
   "source": [
    "# Use the .replace() method to map True/False to 1/0\n",
    "df_pandas_encoded = df_pandas_encoded.replace({True: 1, False: 0})\n",
    "\n",
    "# Print the updated DataFrame 'df_pandas_encoded' where Boolean values \n",
    "# are now represented as integers (1/0)\n",
    "print(df_pandas_encoded)"
   ]
  },
  {
   "cell_type": "code",
   "execution_count": 25,
   "id": "c9d33946",
   "metadata": {},
   "outputs": [],
   "source": [
    "### Splitting the Data into Training and Testing"
   ]
  },
  {
   "cell_type": "code",
   "execution_count": 44,
   "id": "f48c0f66",
   "metadata": {},
   "outputs": [
    {
     "data": {
      "text/plain": [
       "((33, 5), (15, 5))"
      ]
     },
     "execution_count": 44,
     "metadata": {},
     "output_type": "execute_result"
    }
   ],
   "source": [
    "X = df_pandas_encoded[['R&D Spend','Administration','Marketing Spend','State_Florida','State_New York']]\n",
    "y=df_pandas_encoded[['Profit']]\n",
    "X_train, X_test,y_train,y_test = train_test_split(X,y,test_size=0.3)\n",
    "X_train.shape, X_test.shape"
   ]
  },
  {
   "cell_type": "code",
   "execution_count": 45,
   "id": "f239938f",
   "metadata": {},
   "outputs": [
    {
     "data": {
      "text/plain": [
       "((33, 1), (15, 1))"
      ]
     },
     "execution_count": 45,
     "metadata": {},
     "output_type": "execute_result"
    }
   ],
   "source": [
    "y_train.shape, y_test.shape"
   ]
  },
  {
   "cell_type": "code",
   "execution_count": 34,
   "id": "c7d5f635",
   "metadata": {},
   "outputs": [],
   "source": [
    "## Modelling"
   ]
  },
  {
   "cell_type": "code",
   "execution_count": 46,
   "id": "4a7961ab",
   "metadata": {},
   "outputs": [
    {
     "name": "stdout",
     "output_type": "stream",
     "text": [
      "Model Training is Completed\n"
     ]
    }
   ],
   "source": [
    "model = LinearRegression()\n",
    "#### Train the Model with Training Data ----\n",
    "model_train = model.fit(X_train, y_train)\n",
    "print(\"Model Training is Completed\")"
   ]
  },
  {
   "cell_type": "code",
   "execution_count": 47,
   "id": "9dbc4f45",
   "metadata": {},
   "outputs": [
    {
     "name": "stdout",
     "output_type": "stream",
     "text": [
      "Model coefficient = [[ 7.91096937e-01 -2.34998768e-02  1.58911489e-02 -1.27411442e+03\n",
      "  -5.23327280e+03]]\n",
      "Model intercept = [54142.78424777]\n"
     ]
    }
   ],
   "source": [
    "print(\"Model coefficient =\",model.coef_)\n",
    "print(\"Model intercept =\",model.intercept_)"
   ]
  },
  {
   "cell_type": "code",
   "execution_count": 48,
   "id": "e7583aed",
   "metadata": {},
   "outputs": [],
   "source": [
    "##### Validate the Model\n",
    "pred = model.predict(X_test)"
   ]
  },
  {
   "cell_type": "code",
   "execution_count": 49,
   "id": "9e20307e",
   "metadata": {},
   "outputs": [],
   "source": [
    "#rsquare values  - to check the strength of the Model - 0 to 1\n",
    "### if it is closer to 1 , that means the Model is Strong , closer to 0 weak model\n",
    "##### mean squared error / root mean squared error \n",
    "\n",
    "from sklearn.metrics import r2_score, mean_squared_error"
   ]
  },
  {
   "cell_type": "code",
   "execution_count": 50,
   "id": "c909f104",
   "metadata": {},
   "outputs": [
    {
     "data": {
      "text/plain": [
       "0.936"
      ]
     },
     "execution_count": 50,
     "metadata": {},
     "output_type": "execute_result"
    }
   ],
   "source": [
    "round(r2_score(y_test,pred),3)"
   ]
  },
  {
   "cell_type": "code",
   "execution_count": 51,
   "id": "8569311c",
   "metadata": {},
   "outputs": [
    {
     "data": {
      "text/plain": [
       "110496194.55"
      ]
     },
     "execution_count": 51,
     "metadata": {},
     "output_type": "execute_result"
    }
   ],
   "source": [
    "round(mean_squared_error(y_test,pred),2)"
   ]
  },
  {
   "cell_type": "code",
   "execution_count": null,
   "id": "8258c095",
   "metadata": {},
   "outputs": [],
   "source": []
  }
 ],
 "metadata": {
  "kernelspec": {
   "display_name": "Python 3 (ipykernel)",
   "language": "python",
   "name": "python3"
  },
  "language_info": {
   "codemirror_mode": {
    "name": "ipython",
    "version": 3
   },
   "file_extension": ".py",
   "mimetype": "text/x-python",
   "name": "python",
   "nbconvert_exporter": "python",
   "pygments_lexer": "ipython3",
   "version": "3.11.5"
  }
 },
 "nbformat": 4,
 "nbformat_minor": 5
}
